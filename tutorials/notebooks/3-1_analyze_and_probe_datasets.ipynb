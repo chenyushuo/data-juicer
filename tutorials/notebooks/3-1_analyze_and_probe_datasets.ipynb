{
 "cells": [
  {
   "cell_type": "markdown",
   "id": "2def8ab0-a9ac-41a6-ad68-c5c095fa5420",
   "metadata": {},
   "source": [
    "# Analyze & Probe Datasets\n",
    "\n",
    "In this notebook, we will introduce how to analyze and probe given datasets using Data-Juicer Analyzer tools. By using the Analyzer, we can obtain statistical information about the dataset and use these statistics to set and refine parameters in the data recipes.\n",
    "\n",
    "**Note:** Analyzer only computes and analyze the stats of Filter operators. It doesn't work for Mappers, Deduplicators, and Selectors."
   ]
  },
  {
   "cell_type": "markdown",
   "id": "8c27c982",
   "metadata": {},
   "source": [
    "Similar to data processing, we can run `analyze_data.py` tool or `dj-analyze` command with your config as the argument to analyze your dataset. Both of them use `Analyzer` to finish the analysis.\n",
    "\n",
    "```shell\n",
    "# only for installation from source\n",
    "python tools/analyze_data.py --config your_recipe.yaml\n",
    "\n",
    "# use command line tool\n",
    "dj-analyze --config your_recipe.yaml\n",
    "```"
   ]
  },
  {
   "cell_type": "markdown",
   "id": "ff58daf4",
   "metadata": {},
   "source": [
    "Here, we will show you how to analyze your dataset.\n",
    "\n",
    "We will also use the demo dataset in Data-Juicer in this example."
   ]
  },
  {
   "cell_type": "markdown",
   "id": "d59b81bd",
   "metadata": {},
   "source": [
    "First, we need to prepare a data recipe for analyzing the dataset, which includes Filters with stats we care about.\n",
    "\n",
    "For example, if we want to check the distribution of text length of this dataset, we only need to add `text_length_filter` OP in the OP list. Because we won't filter out any samples in the dataset, we don't need to set the thresholds of this OP. And for convenience, we save all analysis results into one figure file."
   ]
  },
  {
   "cell_type": "code",
   "execution_count": 1,
   "id": "95cc9553",
   "metadata": {},
   "outputs": [],
   "source": [
    "recipe_str = \"\"\"\n",
    "project_name: 'analyze_a_dataset'\n",
    "dataset_path: '../demos/data/demo-dataset.jsonl'  # path to your dataset directory or file\n",
    "np: 1  # number of subprocess to process your dataset\n",
    "\n",
    "export_path: './outputs/analyze_result/res.jsonl'\n",
    "save_stats_in_one_file: true\n",
    "\n",
    "# process schedule\n",
    "# a list of several process operators with their arguments\n",
    "process:\n",
    "  - text_length_filter:                                     # filter text with length out of specific range\n",
    "\"\"\"\n",
    "\n",
    "analyze_recipe = 'analyze_recipe.yaml'\n",
    "with open(analyze_recipe, 'w') as f:\n",
    "    f.write(recipe_str)"
   ]
  },
  {
   "cell_type": "markdown",
   "id": "3ba335fc",
   "metadata": {},
   "source": [
    "Now let's begin to analyze the dataset with `Analyzer` directly."
   ]
  },
  {
   "cell_type": "code",
   "execution_count": 2,
   "id": "f9207cf6",
   "metadata": {},
   "outputs": [
    {
     "name": "stderr",
     "output_type": "stream",
     "text": [
      "/usr/local/python310/lib/python3.10/site-packages/tqdm/auto.py:21: TqdmWarning: IProgress not found. Please update jupyter and ipywidgets. See https://ipywidgets.readthedocs.io/en/stable/user_install.html\n",
      "  from .autonotebook import tqdm as notebook_tqdm\n",
      "\u001b[32m2024-08-08 17:18:55\u001b[0m | \u001b[1mINFO    \u001b[0m | \u001b[36mdata_juicer.config.config\u001b[0m:\u001b[36m618\u001b[0m - \u001b[1mBack up the input config file [/root/projects/kdd_tutorial_notebooks/analyze_recipe.yaml] into the work_dir [/root/projects/kdd_tutorial_notebooks/outputs/analyze_result]\u001b[0m\n",
      "\u001b[32m2024-08-08 17:18:55\u001b[0m | \u001b[1mINFO    \u001b[0m | \u001b[36mdata_juicer.config.config\u001b[0m:\u001b[36m640\u001b[0m - \u001b[1mConfiguration table: \u001b[0m\n",
      "╒═════════════════════════╤═══════════════════════════════════════════════════════════════════════════╕\n",
      "│ key                     │ values                                                                    │\n",
      "╞═════════════════════════╪═══════════════════════════════════════════════════════════════════════════╡\n",
      "│ config                  │ [Path_fr(analyze_recipe.yaml, cwd=/root/projects/kdd_tutorial_notebooks)] │\n",
      "├─────────────────────────┼───────────────────────────────────────────────────────────────────────────┤\n",
      "│ hpo_config              │ None                                                                      │\n",
      "├─────────────────────────┼───────────────────────────────────────────────────────────────────────────┤\n",
      "│ data_probe_algo         │ 'uniform'                                                                 │\n",
      "├─────────────────────────┼───────────────────────────────────────────────────────────────────────────┤\n",
      "│ data_probe_ratio        │ 1.0                                                                       │\n",
      "├─────────────────────────┼───────────────────────────────────────────────────────────────────────────┤\n",
      "│ project_name            │ 'analyze_a_dataset'                                                       │\n",
      "├─────────────────────────┼───────────────────────────────────────────────────────────────────────────┤\n",
      "│ executor_type           │ 'default'                                                                 │\n",
      "├─────────────────────────┼───────────────────────────────────────────────────────────────────────────┤\n",
      "│ dataset_path            │ '/root/projects/data-juicer/demos/data/demo-dataset.jsonl'                │\n",
      "├─────────────────────────┼───────────────────────────────────────────────────────────────────────────┤\n",
      "│ export_path             │ '/root/projects/kdd_tutorial_notebooks/outputs/analyze_result/res.jsonl'  │\n",
      "├─────────────────────────┼───────────────────────────────────────────────────────────────────────────┤\n",
      "│ export_shard_size       │ 0                                                                         │\n",
      "├─────────────────────────┼───────────────────────────────────────────────────────────────────────────┤\n",
      "│ export_in_parallel      │ False                                                                     │\n",
      "├─────────────────────────┼───────────────────────────────────────────────────────────────────────────┤\n",
      "│ keep_stats_in_res_ds    │ False                                                                     │\n",
      "├─────────────────────────┼───────────────────────────────────────────────────────────────────────────┤\n",
      "│ keep_hashes_in_res_ds   │ False                                                                     │\n",
      "├─────────────────────────┼───────────────────────────────────────────────────────────────────────────┤\n",
      "│ np                      │ 1                                                                         │\n",
      "├─────────────────────────┼───────────────────────────────────────────────────────────────────────────┤\n",
      "│ text_keys               │ 'text'                                                                    │\n",
      "├─────────────────────────┼───────────────────────────────────────────────────────────────────────────┤\n",
      "│ image_key               │ 'images'                                                                  │\n",
      "├─────────────────────────┼───────────────────────────────────────────────────────────────────────────┤\n",
      "│ image_special_token     │ '<__dj__image>'                                                           │\n",
      "├─────────────────────────┼───────────────────────────────────────────────────────────────────────────┤\n",
      "│ audio_key               │ 'audios'                                                                  │\n",
      "├─────────────────────────┼───────────────────────────────────────────────────────────────────────────┤\n",
      "│ audio_special_token     │ '<__dj__audio>'                                                           │\n",
      "├─────────────────────────┼───────────────────────────────────────────────────────────────────────────┤\n",
      "│ video_key               │ 'videos'                                                                  │\n",
      "├─────────────────────────┼───────────────────────────────────────────────────────────────────────────┤\n",
      "│ video_special_token     │ '<__dj__video>'                                                           │\n",
      "├─────────────────────────┼───────────────────────────────────────────────────────────────────────────┤\n",
      "│ eoc_special_token       │ '<|__dj__eoc|>'                                                           │\n",
      "├─────────────────────────┼───────────────────────────────────────────────────────────────────────────┤\n",
      "│ suffixes                │ []                                                                        │\n",
      "├─────────────────────────┼───────────────────────────────────────────────────────────────────────────┤\n",
      "│ use_cache               │ True                                                                      │\n",
      "├─────────────────────────┼───────────────────────────────────────────────────────────────────────────┤\n",
      "│ ds_cache_dir            │ '/root/.cache/huggingface/datasets'                                       │\n",
      "├─────────────────────────┼───────────────────────────────────────────────────────────────────────────┤\n",
      "│ cache_compress          │ None                                                                      │\n",
      "├─────────────────────────┼───────────────────────────────────────────────────────────────────────────┤\n",
      "│ use_checkpoint          │ False                                                                     │\n",
      "├─────────────────────────┼───────────────────────────────────────────────────────────────────────────┤\n",
      "│ temp_dir                │ None                                                                      │\n",
      "├─────────────────────────┼───────────────────────────────────────────────────────────────────────────┤\n",
      "│ open_tracer             │ False                                                                     │\n",
      "├─────────────────────────┼───────────────────────────────────────────────────────────────────────────┤\n",
      "│ op_list_to_trace        │ []                                                                        │\n",
      "├─────────────────────────┼───────────────────────────────────────────────────────────────────────────┤\n",
      "│ trace_num               │ 10                                                                        │\n",
      "├─────────────────────────┼───────────────────────────────────────────────────────────────────────────┤\n",
      "│ op_fusion               │ False                                                                     │\n",
      "├─────────────────────────┼───────────────────────────────────────────────────────────────────────────┤\n",
      "│ process                 │ [{'text_length_filter': {'accelerator': None,                             │\n",
      "│                         │                          'audio_key': 'audios',                           │\n",
      "│                         │                          'cpu_required': 1,                               │\n",
      "│                         │                          'image_key': 'images',                           │\n",
      "│                         │                          'max_len': 9223372036854775807,                  │\n",
      "│                         │                          'mem_required': 0,                               │\n",
      "│                         │                          'min_len': 10,                                   │\n",
      "│                         │                          'num_proc': 1,                                   │\n",
      "│                         │                          'stats_export_path': None,                       │\n",
      "│                         │                          'text_key': 'text',                              │\n",
      "│                         │                          'video_key': 'videos'}}]                         │\n",
      "├─────────────────────────┼───────────────────────────────────────────────────────────────────────────┤\n",
      "│ percentiles             │ []                                                                        │\n",
      "├─────────────────────────┼───────────────────────────────────────────────────────────────────────────┤\n",
      "│ export_original_dataset │ False                                                                     │\n",
      "├─────────────────────────┼───────────────────────────────────────────────────────────────────────────┤\n",
      "│ save_stats_in_one_file  │ True                                                                      │\n",
      "├─────────────────────────┼───────────────────────────────────────────────────────────────────────────┤\n",
      "│ ray_address             │ 'auto'                                                                    │\n",
      "├─────────────────────────┼───────────────────────────────────────────────────────────────────────────┤\n",
      "│ debug                   │ False                                                                     │\n",
      "├─────────────────────────┼───────────────────────────────────────────────────────────────────────────┤\n",
      "│ work_dir                │ '/root/projects/kdd_tutorial_notebooks/outputs/analyze_result'            │\n",
      "├─────────────────────────┼───────────────────────────────────────────────────────────────────────────┤\n",
      "│ timestamp               │ '20240808171854'                                                          │\n",
      "├─────────────────────────┼───────────────────────────────────────────────────────────────────────────┤\n",
      "│ dataset_dir             │ '/root/projects/data-juicer/demos/data'                                   │\n",
      "├─────────────────────────┼───────────────────────────────────────────────────────────────────────────┤\n",
      "│ add_suffix              │ False                                                                     │\n",
      "╘═════════════════════════╧═══════════════════════════════════════════════════════════════════════════╛\n",
      "\u001b[32m2024-08-08 17:18:55\u001b[0m | \u001b[1mINFO    \u001b[0m | \u001b[36mdata_juicer.core.analyzer\u001b[0m:\u001b[36m37\u001b[0m - \u001b[1mUsing cache compression method: [None]\u001b[0m\n",
      "\u001b[32m2024-08-08 17:18:55\u001b[0m | \u001b[1mINFO    \u001b[0m | \u001b[36mdata_juicer.core.analyzer\u001b[0m:\u001b[36m42\u001b[0m - \u001b[1mSetting up data formatter...\u001b[0m\n",
      "\u001b[32m2024-08-08 17:18:55\u001b[0m | \u001b[1mINFO    \u001b[0m | \u001b[36mdata_juicer.core.analyzer\u001b[0m:\u001b[36m51\u001b[0m - \u001b[1mPreparing exporter...\u001b[0m\n",
      "\u001b[32m2024-08-08 17:18:55\u001b[0m | \u001b[1mINFO    \u001b[0m | \u001b[36mdata_juicer.core.analyzer\u001b[0m:\u001b[36m75\u001b[0m - \u001b[1mLoading dataset from data formatter...\u001b[0m\n",
      "\u001b[32m2024-08-08 17:18:56\u001b[0m | \u001b[1mINFO    \u001b[0m | \u001b[36mdata_juicer.format.formatter\u001b[0m:\u001b[36m185\u001b[0m - \u001b[1mUnifying the input dataset formats...\u001b[0m\n",
      "\u001b[32m2024-08-08 17:18:56\u001b[0m | \u001b[1mINFO    \u001b[0m | \u001b[36mdata_juicer.format.formatter\u001b[0m:\u001b[36m200\u001b[0m - \u001b[1mThere are 6 sample(s) in the original dataset.\u001b[0m\n",
      "\u001b[32m2024-08-08 17:18:56\u001b[0m | \u001b[1mINFO    \u001b[0m | \u001b[36mdata_juicer.format.formatter\u001b[0m:\u001b[36m214\u001b[0m - \u001b[1m6 samples left after filtering empty text.\u001b[0m\n",
      "\u001b[32m2024-08-08 17:18:56\u001b[0m | \u001b[1mINFO    \u001b[0m | \u001b[36mdata_juicer.format.mixture_formatter\u001b[0m:\u001b[36m137\u001b[0m - \u001b[1msampled 6 from 6\u001b[0m\n",
      "\u001b[32m2024-08-08 17:18:56\u001b[0m | \u001b[1mINFO    \u001b[0m | \u001b[36mdata_juicer.format.mixture_formatter\u001b[0m:\u001b[36m143\u001b[0m - \u001b[1mThere are 6 in final dataset\u001b[0m\n",
      "\u001b[32m2024-08-08 17:18:56\u001b[0m | \u001b[1mINFO    \u001b[0m | \u001b[36mdata_juicer.core.analyzer\u001b[0m:\u001b[36m81\u001b[0m - \u001b[1mPreparing process operators...\u001b[0m\n",
      "\u001b[32m2024-08-08 17:18:56\u001b[0m | \u001b[1mINFO    \u001b[0m | \u001b[36mdata_juicer.core.analyzer\u001b[0m:\u001b[36m86\u001b[0m - \u001b[1mComputing the stats of dataset...\u001b[0m\n",
      "\u001b[32m2024-08-08 17:18:56\u001b[0m | \u001b[1mINFO    \u001b[0m | \u001b[36mdata_juicer.core.data\u001b[0m:\u001b[36m193\u001b[0m - \u001b[1mOP [text_length_filter] Done in 0.007s. Left 6 samples.\u001b[0m\n",
      "\u001b[32m2024-08-08 17:18:56\u001b[0m | \u001b[1mINFO    \u001b[0m | \u001b[36mdata_juicer.core.analyzer\u001b[0m:\u001b[36m101\u001b[0m - \u001b[1mExporting dataset to disk...\u001b[0m\n",
      "\u001b[32m2024-08-08 17:18:56\u001b[0m | \u001b[1mINFO    \u001b[0m | \u001b[36mdata_juicer.core.exporter\u001b[0m:\u001b[36m111\u001b[0m - \u001b[1mExporting computed stats into a single file...\u001b[0m\n",
      "Creating json from Arrow format: 100%|##########| 1/1 [00:00<00:00, 230.58ba/s]\n",
      "\u001b[32m2024-08-08 17:18:56\u001b[0m | \u001b[1mINFO    \u001b[0m | \u001b[36mdata_juicer.core.analyzer\u001b[0m:\u001b[36m113\u001b[0m - \u001b[1mApplying overall analysis on stats...\u001b[0m\n",
      "100%|##########| 1/1 [00:00<00:00, 8594.89it/s]\n",
      "\u001b[32m2024-08-08 17:18:56\u001b[0m | \u001b[1mINFO    \u001b[0m | \u001b[36mdata_juicer.core.analyzer\u001b[0m:\u001b[36m120\u001b[0m - \u001b[1mThe overall analysis results are:          text_len\n",
      "count    6.000000\n",
      "mean    39.500000\n",
      "std     34.795115\n",
      "min      8.000000\n",
      "25%     13.750000\n",
      "50%     32.500000\n",
      "75%     49.750000\n",
      "max    101.000000\u001b[0m\n",
      "\u001b[32m2024-08-08 17:18:56\u001b[0m | \u001b[1mINFO    \u001b[0m | \u001b[36mdata_juicer.core.analyzer\u001b[0m:\u001b[36m122\u001b[0m - \u001b[1mApplying column-wise analysis on stats...\u001b[0m\n",
      "Column: 100%|##########| 1/1 [00:00<00:00, 48.18it/s]\n"
     ]
    },
    {
     "data": {
      "text/plain": [
       "Dataset({\n",
       "    features: ['text', 'meta', '__dj__stats__'],\n",
       "    num_rows: 6\n",
       "})"
      ]
     },
     "execution_count": 2,
     "metadata": {},
     "output_type": "execute_result"
    },
    {
     "data": {
      "text/plain": [
       "<Figure size 800x600 with 0 Axes>"
      ]
     },
     "metadata": {},
     "output_type": "display_data"
    }
   ],
   "source": [
    "# load recipe\n",
    "from data_juicer.config import init_configs\n",
    "from data_juicer.core import Analyzer\n",
    "\n",
    "cfg = init_configs(args=f'--config {analyze_recipe}'.split())\n",
    "\n",
    "analyzer = Analyzer(cfg)\n",
    "analyzer.run()"
   ]
  },
  {
   "cell_type": "markdown",
   "id": "97489656",
   "metadata": {},
   "source": [
    "After the analysis is complete, we can view the statistical information of the dataset."
   ]
  },
  {
   "cell_type": "code",
   "execution_count": 3,
   "id": "7f7c9884",
   "metadata": {},
   "outputs": [
    {
     "data": {
      "text/html": [
       "<div>\n",
       "<style scoped>\n",
       "    .dataframe tbody tr th:only-of-type {\n",
       "        vertical-align: middle;\n",
       "    }\n",
       "\n",
       "    .dataframe tbody tr th {\n",
       "        vertical-align: top;\n",
       "    }\n",
       "\n",
       "    .dataframe thead th {\n",
       "        text-align: right;\n",
       "    }\n",
       "</style>\n",
       "<table border=\"1\" class=\"dataframe\">\n",
       "  <thead>\n",
       "    <tr style=\"text-align: right;\">\n",
       "      <th></th>\n",
       "      <th>Unnamed: 0</th>\n",
       "      <th>text_len</th>\n",
       "    </tr>\n",
       "  </thead>\n",
       "  <tbody>\n",
       "    <tr>\n",
       "      <th>0</th>\n",
       "      <td>count</td>\n",
       "      <td>6.000000</td>\n",
       "    </tr>\n",
       "    <tr>\n",
       "      <th>1</th>\n",
       "      <td>mean</td>\n",
       "      <td>39.500000</td>\n",
       "    </tr>\n",
       "    <tr>\n",
       "      <th>2</th>\n",
       "      <td>std</td>\n",
       "      <td>34.795115</td>\n",
       "    </tr>\n",
       "    <tr>\n",
       "      <th>3</th>\n",
       "      <td>min</td>\n",
       "      <td>8.000000</td>\n",
       "    </tr>\n",
       "    <tr>\n",
       "      <th>4</th>\n",
       "      <td>25%</td>\n",
       "      <td>13.750000</td>\n",
       "    </tr>\n",
       "    <tr>\n",
       "      <th>5</th>\n",
       "      <td>50%</td>\n",
       "      <td>32.500000</td>\n",
       "    </tr>\n",
       "    <tr>\n",
       "      <th>6</th>\n",
       "      <td>75%</td>\n",
       "      <td>49.750000</td>\n",
       "    </tr>\n",
       "    <tr>\n",
       "      <th>7</th>\n",
       "      <td>max</td>\n",
       "      <td>101.000000</td>\n",
       "    </tr>\n",
       "  </tbody>\n",
       "</table>\n",
       "</div>"
      ],
      "text/plain": [
       "  Unnamed: 0    text_len\n",
       "0      count    6.000000\n",
       "1       mean   39.500000\n",
       "2        std   34.795115\n",
       "3        min    8.000000\n",
       "4        25%   13.750000\n",
       "5        50%   32.500000\n",
       "6        75%   49.750000\n",
       "7        max  101.000000"
      ]
     },
     "execution_count": 3,
     "metadata": {},
     "output_type": "execute_result"
    }
   ],
   "source": [
    "import os\n",
    "import pandas as pd\n",
    "overall_file = os.path.join(analyzer.analysis_path, 'overall.csv')\n",
    "if os.path.exists(overall_file):\n",
    "    analysis_res = pd.read_csv(overall_file)\n",
    "\n",
    "analysis_res"
   ]
  },
  {
   "cell_type": "markdown",
   "id": "1541c1bd",
   "metadata": {},
   "source": [
    "Display the histogram of statistics of dataset"
   ]
  },
  {
   "cell_type": "code",
   "execution_count": 4,
   "id": "844a0a5d",
   "metadata": {},
   "outputs": [
    {
     "data": {
      "image/png": "[encoded data removed]",
      "text/plain": [
       "<Figure size 640x480 with 1 Axes>"
      ]
     },
     "metadata": {},
     "output_type": "display_data"
    }
   ],
   "source": [
    "import matplotlib.pyplot as plt\n",
    "import matplotlib.image as mpimg\n",
    "\n",
    "if os.path.exists(analyzer.analysis_path):\n",
    "    for f_path in os.listdir(analyzer.analysis_path):\n",
    "        if '.png' in f_path and 'all-stats' in f_path:\n",
    "            all_stats = os.path.join(analyzer.analysis_path, f_path)\n",
    "            break\n",
    "\n",
    "img = mpimg.imread(all_stats) \n",
    "plt.imshow(img)\n",
    "plt.show()"
   ]
  },
  {
   "cell_type": "markdown",
   "id": "0c975853",
   "metadata": {},
   "source": [
    "Finally, clean up the example recipe."
   ]
  },
  {
   "cell_type": "code",
   "execution_count": 5,
   "id": "d288a302",
   "metadata": {},
   "outputs": [],
   "source": [
    "!rm analyze_recipe.yaml"
   ]
  },
  {
   "cell_type": "markdown",
   "id": "1564a051",
   "metadata": {},
   "source": [
    "# Conclusion\n",
    "\n",
    "In this notebook, we learn how to analyze a dataset on Filter stats we care about with the `Analyzer` tool, and how to check the analysis results."
   ]
  }
 ],
 "metadata": {
  "kernelspec": {
   "display_name": "Python 3 (ipykernel)",
   "language": "python",
   "name": "python3"
  },
  "language_info": {
   "codemirror_mode": {
    "name": "ipython",
    "version": 3
   },
   "file_extension": ".py",
   "mimetype": "text/x-python",
   "name": "python",
   "nbconvert_exporter": "python",
   "pygments_lexer": "ipython3",
   "version": "3.9.12"
  }
 },
 "nbformat": 4,
 "nbformat_minor": 5
}
