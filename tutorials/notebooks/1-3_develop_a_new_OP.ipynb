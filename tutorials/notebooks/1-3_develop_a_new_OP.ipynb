{
 "cells": [
  {
   "cell_type": "markdown",
   "id": "1e3ddc2c-7871-47ee-ad42-02676bf0451e",
   "metadata": {},
   "source": [
    "# Develop a New Operator\n",
    "\n",
    "In the previous notebooks, we are already familiar with the basic classes of each type of OPs. In this notebook, we will show you how to develop your own OP.\n",
    "\n",
    "Basically, we only need to implement the `__init__`, `compute_xxx`, `process` methods (if required) after inheriting from these basic classes. Here we take Filter as an example. Compared with Mapper and Selector, Filter and Deduplicator need to compute some stats or hash values for processing, so there are some extra steps to implement them."
   ]
  },
  {
   "cell_type": "markdown",
   "metadata": {},
   "source": [
    "## Coding for Your Filter\n",
    "\n",
    "As we said before, we only need to inheriting from the basic Filter class, implement `__init__`, `compute_stats`, `process` methods. However, due to Filter would introduce stats, we need to define a new stats field key for your new Filter first.\n",
    "\n",
    "For example, we want to implement our own Filter to filter out the samples with too long or too short texts (Acutally, Data-Juicer already contain an OP with the same function: `TextLengthFilter`). We need a new field key to store this new stats. Assuming we call this new field key \"my_text_len\", we need to:\n",
    "\n",
    "- Add this new field key to `StatsKeys` class in `data_juicer/utils/constant.py` to store the statistical variable of the new OP.\n",
    "  - It's worth noticing that when developing your own Deduplicator and you need a new kind of hash value, you also need to add a new hash field key to the `HashKeys` class in `data_juicer/utils/constant.py`. For Mapper and Selector, we don't need this step because they don't depend on stats usually.\n"
   ]
  },
  {
   "cell_type": "code",
   "execution_count": 1,
   "metadata": {},
   "outputs": [],
   "source": [
    "class StatsKeys(object):\n",
    "    # ... other keys\n",
    "    my_text_len = 'my_text_len'"
   ]
  },
  {
   "cell_type": "markdown",
   "metadata": {},
   "source": [
    "Then we can create a new OP file, such as `my_text_length_filter.py` in the corresponding `data_juicer/ops/filter/` directory as follows."
   ]
  },
  {
   "cell_type": "code",
   "execution_count": 2,
   "metadata": {},
   "outputs": [
    {
     "name": "stderr",
     "output_type": "stream",
     "text": [
      "/usr/local/python310/lib/python3.10/site-packages/tqdm/auto.py:21: TqdmWarning: IProgress not found. Please update jupyter and ipywidgets. See https://ipywidgets.readthedocs.io/en/stable/user_install.html\n",
      "  from .autonotebook import tqdm as notebook_tqdm\n"
     ]
    }
   ],
   "source": [
    "import sys\n",
    "from jsonargparse.typing import PositiveInt\n",
    "\n",
    "from data_juicer.utils.constant import Fields\n",
    "# NOTE: use the new StatsKeys definition above in this example notebook. When you add new file to corresponding directory, you need to import it from data_juicer.utils.constant\n",
    "# from data_juicer.utils.constant import StatsKeys\n",
    "from data_juicer.ops.base_op import OPERATORS, Filter\n",
    "\n",
    "# register into the OP list\n",
    "@OPERATORS.register_module('my_text_length_filter')\n",
    "# inheriting from the basic Filter class\n",
    "class MyTextLengthFilter(Filter):\n",
    "    \"\"\"Filter to keep samples with total text length within a specific\n",
    "    range.\"\"\"\n",
    "\n",
    "    # implement the __init__ method\n",
    "    def __init__(self,\n",
    "                min_len: PositiveInt = 10,\n",
    "                max_len: PositiveInt = sys.maxsize,\n",
    "                *args,\n",
    "                **kwargs):\n",
    "        \"\"\"\n",
    "        Initialization method.\n",
    "\n",
    "        :param min_len: The min text length in the filtering. samples\n",
    "            will be filtered if their text length is below this\n",
    "            parameter.\n",
    "        :param max_len: The max text length in the filtering. samples\n",
    "            will be filtered if their text length exceeds this\n",
    "            parameter.\n",
    "        :param args: extra args\n",
    "        :param kwargs: extra args\n",
    "        \"\"\"\n",
    "        super().__init__(*args, **kwargs)\n",
    "        self.min_len = min_len\n",
    "        self.max_len = max_len\n",
    "\n",
    "    # implement the compute_stats method\n",
    "    def compute_stats(self, sample):\n",
    "        # check if it's computed already\n",
    "        if StatsKeys.my_text_len in sample[Fields.stats]:\n",
    "            return sample\n",
    "\n",
    "        # compute the stats and store it into the stats dict with the new specified field key\n",
    "        sample[Fields.stats][StatsKeys.my_text_len] = len(sample[self.text_key])\n",
    "        return sample\n",
    "\n",
    "    # implement the process method\n",
    "    def process(self, sample):\n",
    "        # only keep those samples whose text length is in the expected range.\n",
    "        if self.min_len <= sample[Fields.stats][StatsKeys.my_text_len] <= self.max_len:\n",
    "            return True\n",
    "        else:\n",
    "            return False"
   ]
  },
  {
   "cell_type": "markdown",
   "metadata": {},
   "source": [
    "- After implemention, add it to the OP dictionary and `__all__` list in the `__init__.py` file in `data_juicer/ops/filter/` directory.\n",
    "\n",
    "```python\n",
    "from . import  my_text_length_filter\n",
    "...\n",
    "from .my_text_length_filter import MyTextLengthFilter\n",
    "...\n",
    "__all__ = [\n",
    "    ...\n",
    "    'MyTextLengthFilter',\n",
    "    ...\n",
    "]\n",
    "```"
   ]
  },
  {
   "cell_type": "markdown",
   "metadata": {},
   "source": [
    "Now we can try our own OP after importing it."
   ]
  },
  {
   "cell_type": "code",
   "execution_count": 3,
   "id": "7ae21403",
   "metadata": {},
   "outputs": [
    {
     "name": "stdout",
     "output_type": "stream",
     "text": [
      "Dataset({\n",
      "    features: ['text', '__dj__stats__'],\n",
      "    num_rows: 2\n",
      "})\n"
     ]
    }
   ],
   "source": [
    "# import our own new OP from data-juicer. Here in this example notebook, we use the definition above directly.\n",
    "# from data_juicer.ops.filter import MyTextLengthFilter\n",
    "\n",
    "# initialize this OP. We only keep samples with text length >= 20\n",
    "my_op = MyTextLengthFilter(\n",
    "    min_len=20,\n",
    ")\n",
    "\n",
    "# create a example dataset\n",
    "from data_juicer.core import NestedDataset\n",
    "samples = [\n",
    "    {'text': 'Data Juicer'},  # len = 11\n",
    "    {'text': 'Welcome to Data Juicer Playground'}  # len = 33\n",
    "]\n",
    "ds = NestedDataset.from_list(samples)\n",
    "# Add a new column to the dataset to store the stats of the Filter operator.\n",
    "from data_juicer.utils.constant import Fields\n",
    "ds = ds.add_column(name=Fields.stats, column=[{}] * ds.num_rows)\n",
    "print(ds)\n"
   ]
  },
  {
   "cell_type": "markdown",
   "id": "c14ac3da",
   "metadata": {},
   "source": [
    "Then use this new OP process this example dataset."
   ]
  },
  {
   "cell_type": "code",
   "execution_count": 4,
   "id": "d98a9958",
   "metadata": {},
   "outputs": [
    {
     "name": "stderr",
     "output_type": "stream",
     "text": [
      "num_proc must be <= 2. Reducing num_proc to 2 for dataset of size 2.\n",
      "my_text_length_filter_compute_stats (num_proc=2): 100%|██████████| 2/2 [00:00<00:00, 21.40 examples/s]\n",
      "num_proc must be <= 2. Reducing num_proc to 2 for dataset of size 2.\n",
      "my_text_length_filter_process (num_proc=2): 100%|██████████| 2/2 [00:00<00:00, 24.64 examples/s]"
     ]
    },
    {
     "name": "stdout",
     "output_type": "stream",
     "text": [
      "Dataset({\n",
      "    features: ['text', '__dj__stats__'],\n",
      "    num_rows: 1\n",
      "})\n",
      "Number of samples of output dataset : 1\n",
      "{'text': 'Welcome to Data Juicer Playground', '__dj__stats__': {'my_text_len': 33}}\n"
     ]
    },
    {
     "name": "stderr",
     "output_type": "stream",
     "text": [
      "\n"
     ]
    }
   ],
   "source": [
    "out_ds = my_op.run(ds)\n",
    "\n",
    "print(out_ds)\n",
    "print(f'Number of samples of output dataset : {len(out_ds)}')\n",
    "for sample in out_ds:\n",
    "    print(sample)"
   ]
  },
  {
   "cell_type": "markdown",
   "id": "d3e53648",
   "metadata": {},
   "source": [
    "## How to contribute new OPs in Data-Juicer style\n",
    "\n",
    "After you develop a new OP, you might want to contribute to Data-Juicer repository to share this new OP with other developers in the open-source community.\n",
    "\n",
    "As we know, good coding style can make code more readable and easier to maintain and follow. So you need some extra works before completing the contribution, including writing unit tests, add corresponding documents, and check coding style for your new OP before it's merged into Data-Juicer.\n",
    "\n",
    "For more details, please refer to the [DeveloperGuide doc](https://github.com/modelscope/data-juicer/blob/main/docs/DeveloperGuide.md)."
   ]
  },
  {
   "cell_type": "markdown",
   "id": "28cdc368",
   "metadata": {},
   "source": [
    "# Conclusion\n",
    "\n",
    "In this notebook, we learn how to develop a new OP and make it available in Data-Juicer. Also, we also suggest and encourage developers to modify their new OP to a good coding style and contribute it to Data-Juicer for open-source community."
   ]
  }
 ],
 "metadata": {
  "kernelspec": {
   "display_name": "Python 3 (ipykernel)",
   "language": "python",
   "name": "python3"
  },
  "language_info": {
   "codemirror_mode": {
    "name": "ipython",
    "version": 3
   },
   "file_extension": ".py",
   "mimetype": "text/x-python",
   "name": "python",
   "nbconvert_exporter": "python",
   "pygments_lexer": "ipython3",
   "version": "3.10.9"
  }
 },
 "nbformat": 4,
 "nbformat_minor": 5
}
