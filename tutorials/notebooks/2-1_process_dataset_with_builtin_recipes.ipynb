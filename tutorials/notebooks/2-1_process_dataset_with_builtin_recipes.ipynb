{
 "cells": [
  {
   "cell_type": "markdown",
   "id": "68647c59",
   "metadata": {},
   "source": [
    "# Process Dataset with Built-in Recipes\n",
    "\n",
    "Data-Juicer provides lots of built-in data recipes, which are demos or effect-proven. In this notebook, we will start processing a dataet with a built-in data recipe to learn how to use Data-Juicer quickly.\n",
    "\n",
    "We will start to get familiar with the data processing with a built-in demo recipe."
   ]
  },
  {
   "cell_type": "markdown",
   "id": "c335b697",
   "metadata": {},
   "source": [
    "## Start to Process Dataset\n",
    "\n",
    "To process data using Data-Juicer, you can run `process_data.py` tool with your config as the argument when in the root directory of Data-Juicer, or run the `dj-process` command (an executable wrapper of `process_data.py` tool) with your config anywhere after installing Data-Juicer.\n",
    "\n",
    "``` shell\n",
    "# assuming you are in the data-juicer root directory already.\n",
    "\n",
    "# run the process_data tool in the root dir of Data-Juicer\n",
    "python tools/process_data.py --config configs/demo/process.yaml\n",
    "\n",
    "# or run the dj-process command\n",
    "dj-process --config configs/demo/process.yaml\n",
    "```"
   ]
  },
  {
   "cell_type": "markdown",
   "id": "ed9798a1",
   "metadata": {},
   "source": [
    "The [configs/demo/process.yaml](https://github.com/modelscope/data-juicer/blob/main/configs/demo/process.yaml) here is the given data_recipes.\n",
    "\n",
    "```yaml\n",
    "# Process config example for dataset\n",
    "\n",
    "# global parameters\n",
    "project_name: 'demo-process'\n",
    "dataset_path: './demos/data/demo-dataset.jsonl'  # path to your dataset directory or file\n",
    "np: 4  # number of subprocess to process your dataset\n",
    "\n",
    "export_path: './outputs/demo-process/demo-processed.jsonl'\n",
    "\n",
    "# process schedule\n",
    "# a list of several process operators with their arguments\n",
    "process:\n",
    "  - language_id_score_filter:\n",
    "      lang: 'zh'\n",
    "      min_score: 0.8\n",
    "```\n",
    "\n",
    "In this config, we specify the project name, input and output dataset path, number of processors to process the dataset in parallel. In the OP list, which is specified by the `process` schedule, we only add a signle OP `language_id_score_filter`, which will identify the language of the texts in each sample and give a confidence score as stats. We set the taget language label to \"zh\" and minimum score threshold to 0.8, which means we only keep the samples whose texts are in Chinese with a confidence score larger than or equal to 0.8.\n",
    "\n",
    "You can run this demo after specifying the correct config file path.\n",
    "\n",
    "First, we need to go to the root dir of Data-Juicer. You can replace this path with the correct path on your machine."
   ]
  },
  {
   "cell_type": "code",
   "execution_count": 1,
   "id": "325c81a0",
   "metadata": {},
   "outputs": [
    {
     "name": "stdout",
     "output_type": "stream",
     "text": [
      "/root/projects/data-juicer\n"
     ]
    },
    {
     "name": "stderr",
     "output_type": "stream",
     "text": [
      "/usr/local/python310/lib/python3.10/site-packages/IPython/core/magics/osm.py:417: UserWarning: This is now an optional IPython functionality, setting dhist requires you to install the `pickleshare` library.\n",
      "  self.shell.db['dhist'] = compress_dhist(dhist)[-100:]\n"
     ]
    }
   ],
   "source": [
    "cd ../"
   ]
  },
  {
   "cell_type": "code",
   "execution_count": 1,
   "id": "70830bc7",
   "metadata": {},
   "outputs": [
    {
     "name": "stdout",
     "output_type": "stream",
     "text": [
      "\u001b[32m2024-08-07 17:04:17\u001b[0m | \u001b[1mINFO    \u001b[0m | \u001b[36mdata_juicer.config.config\u001b[0m:\u001b[36m618\u001b[0m - \u001b[1mBack up the input config file [/root/projects/data-juicer/configs/demo/process.yaml] into the work_dir [/root/projects/data-juicer/outputs/demo-process]\u001b[0m\n",
      "\u001b[32m2024-08-07 17:04:17\u001b[0m | \u001b[1mINFO    \u001b[0m | \u001b[36mdata_juicer.config.config\u001b[0m:\u001b[36m640\u001b[0m - \u001b[1mConfiguration table: \u001b[0m\n",
      "╒═════════════════════════╤════════════════════════════════════════════════════════════════════════╕\n",
      "│ key                     │ values                                                                 │\n",
      "╞═════════════════════════╪════════════════════════════════════════════════════════════════════════╡\n",
      "│ config                  │ [Path_fr(configs/demo/process.yaml, cwd=/root/projects/data-juicer)]   │\n",
      "├─────────────────────────┼────────────────────────────────────────────────────────────────────────┤\n",
      "│ hpo_config              │ None                                                                   │\n",
      "├─────────────────────────┼────────────────────────────────────────────────────────────────────────┤\n",
      "│ data_probe_algo         │ 'uniform'                                                              │\n",
      "├─────────────────────────┼────────────────────────────────────────────────────────────────────────┤\n",
      "│ data_probe_ratio        │ 1.0                                                                    │\n",
      "├─────────────────────────┼────────────────────────────────────────────────────────────────────────┤\n",
      "│ project_name            │ 'demo-process'                                                         │\n",
      "├─────────────────────────┼────────────────────────────────────────────────────────────────────────┤\n",
      "│ executor_type           │ 'default'                                                              │\n",
      "├─────────────────────────┼────────────────────────────────────────────────────────────────────────┤\n",
      "│ dataset_path            │ '/root/projects/data-juicer/demos/data/demo-dataset.jsonl'             │\n",
      "├─────────────────────────┼────────────────────────────────────────────────────────────────────────┤\n",
      "│ export_path             │ '/root/projects/data-juicer/outputs/demo-process/demo-processed.jsonl' │\n",
      "├─────────────────────────┼────────────────────────────────────────────────────────────────────────┤\n",
      "│ export_shard_size       │ 0                                                                      │\n",
      "├─────────────────────────┼────────────────────────────────────────────────────────────────────────┤\n",
      "│ export_in_parallel      │ False                                                                  │\n",
      "├─────────────────────────┼────────────────────────────────────────────────────────────────────────┤\n",
      "│ keep_stats_in_res_ds    │ False                                                                  │\n",
      "├─────────────────────────┼────────────────────────────────────────────────────────────────────────┤\n",
      "│ keep_hashes_in_res_ds   │ False                                                                  │\n",
      "├─────────────────────────┼────────────────────────────────────────────────────────────────────────┤\n",
      "│ np                      │ 4                                                                      │\n",
      "├─────────────────────────┼────────────────────────────────────────────────────────────────────────┤\n",
      "│ text_keys               │ 'text'                                                                 │\n",
      "├─────────────────────────┼────────────────────────────────────────────────────────────────────────┤\n",
      "│ image_key               │ 'images'                                                               │\n",
      "├─────────────────────────┼────────────────────────────────────────────────────────────────────────┤\n",
      "│ image_special_token     │ '<__dj__image>'                                                        │\n",
      "├─────────────────────────┼────────────────────────────────────────────────────────────────────────┤\n",
      "│ audio_key               │ 'audios'                                                               │\n",
      "├─────────────────────────┼────────────────────────────────────────────────────────────────────────┤\n",
      "│ audio_special_token     │ '<__dj__audio>'                                                        │\n",
      "├─────────────────────────┼────────────────────────────────────────────────────────────────────────┤\n",
      "│ video_key               │ 'videos'                                                               │\n",
      "├─────────────────────────┼────────────────────────────────────────────────────────────────────────┤\n",
      "│ video_special_token     │ '<__dj__video>'                                                        │\n",
      "├─────────────────────────┼────────────────────────────────────────────────────────────────────────┤\n",
      "│ eoc_special_token       │ '<|__dj__eoc|>'                                                        │\n",
      "├─────────────────────────┼────────────────────────────────────────────────────────────────────────┤\n",
      "│ suffixes                │ []                                                                     │\n",
      "├─────────────────────────┼────────────────────────────────────────────────────────────────────────┤\n",
      "│ use_cache               │ True                                                                   │\n",
      "├─────────────────────────┼────────────────────────────────────────────────────────────────────────┤\n",
      "│ ds_cache_dir            │ '/root/.cache/huggingface/datasets'                                    │\n",
      "├─────────────────────────┼────────────────────────────────────────────────────────────────────────┤\n",
      "│ cache_compress          │ None                                                                   │\n",
      "├─────────────────────────┼────────────────────────────────────────────────────────────────────────┤\n",
      "│ use_checkpoint          │ False                                                                  │\n",
      "├─────────────────────────┼────────────────────────────────────────────────────────────────────────┤\n",
      "│ temp_dir                │ None                                                                   │\n",
      "├─────────────────────────┼────────────────────────────────────────────────────────────────────────┤\n",
      "│ open_tracer             │ False                                                                  │\n",
      "├─────────────────────────┼────────────────────────────────────────────────────────────────────────┤\n",
      "│ op_list_to_trace        │ []                                                                     │\n",
      "├─────────────────────────┼────────────────────────────────────────────────────────────────────────┤\n",
      "│ trace_num               │ 10                                                                     │\n",
      "├─────────────────────────┼────────────────────────────────────────────────────────────────────────┤\n",
      "│ op_fusion               │ False                                                                  │\n",
      "├─────────────────────────┼────────────────────────────────────────────────────────────────────────┤\n",
      "│ process                 │ [{'language_id_score_filter': {'accelerator': None,                    │\n",
      "│                         │                                'audio_key': 'audios',                  │\n",
      "│                         │                                'cpu_required': 1,                      │\n",
      "│                         │                                'image_key': 'images',                  │\n",
      "│                         │                                'lang': 'zh',                           │\n",
      "│                         │                                'mem_required': 0,                      │\n",
      "│                         │                                'min_score': 0.8,                       │\n",
      "│                         │                                'num_proc': 4,                          │\n",
      "│                         │                                'stats_export_path': None,              │\n",
      "│                         │                                'text_key': 'text',                     │\n",
      "│                         │                                'video_key': 'videos'}}]                │\n",
      "├─────────────────────────┼────────────────────────────────────────────────────────────────────────┤\n",
      "│ percentiles             │ []                                                                     │\n",
      "├─────────────────────────┼────────────────────────────────────────────────────────────────────────┤\n",
      "│ export_original_dataset │ False                                                                  │\n",
      "├─────────────────────────┼────────────────────────────────────────────────────────────────────────┤\n",
      "│ save_stats_in_one_file  │ False                                                                  │\n",
      "├─────────────────────────┼────────────────────────────────────────────────────────────────────────┤\n",
      "│ ray_address             │ 'auto'                                                                 │\n",
      "├─────────────────────────┼────────────────────────────────────────────────────────────────────────┤\n",
      "│ debug                   │ False                                                                  │\n",
      "├─────────────────────────┼────────────────────────────────────────────────────────────────────────┤\n",
      "│ work_dir                │ '/root/projects/data-juicer/outputs/demo-process'                      │\n",
      "├─────────────────────────┼────────────────────────────────────────────────────────────────────────┤\n",
      "│ timestamp               │ '20240807170416'                                                       │\n",
      "├─────────────────────────┼────────────────────────────────────────────────────────────────────────┤\n",
      "│ dataset_dir             │ '/root/projects/data-juicer/demos/data'                                │\n",
      "├─────────────────────────┼────────────────────────────────────────────────────────────────────────┤\n",
      "│ add_suffix              │ False                                                                  │\n",
      "╘═════════════════════════╧════════════════════════════════════════════════════════════════════════╛\n",
      "\u001b[32m2024-08-07 17:04:17\u001b[0m | \u001b[1mINFO    \u001b[0m | \u001b[36mdata_juicer.core.executor\u001b[0m:\u001b[36m47\u001b[0m - \u001b[1mUsing cache compression method: [None]\u001b[0m\n",
      "\u001b[32m2024-08-07 17:04:17\u001b[0m | \u001b[1mINFO    \u001b[0m | \u001b[36mdata_juicer.core.executor\u001b[0m:\u001b[36m52\u001b[0m - \u001b[1mSetting up data formatter...\u001b[0m\n",
      "\u001b[32m2024-08-07 17:04:17\u001b[0m | \u001b[1mINFO    \u001b[0m | \u001b[36mdata_juicer.core.executor\u001b[0m:\u001b[36m74\u001b[0m - \u001b[1mPreparing exporter...\u001b[0m\n",
      "\u001b[32m2024-08-07 17:04:17\u001b[0m | \u001b[1mINFO    \u001b[0m | \u001b[36mdata_juicer.core.executor\u001b[0m:\u001b[36m151\u001b[0m - \u001b[1mLoading dataset from data formatter...\u001b[0m\n",
      "Setting num_proc from 4 back to 1 for the jsonl split to disable multiprocessing as it only contains one shard.\n",
      "Generating jsonl split: 6 examples [00:00, 1306.30 examples/s]\n",
      "\u001b[32m2024-08-07 17:04:18\u001b[0m | \u001b[1mINFO    \u001b[0m | \u001b[36mdata_juicer.format.formatter\u001b[0m:\u001b[36m185\u001b[0m - \u001b[1mUnifying the input dataset formats...\u001b[0m\n",
      "\u001b[32m2024-08-07 17:04:18\u001b[0m | \u001b[1mINFO    \u001b[0m | \u001b[36mdata_juicer.format.formatter\u001b[0m:\u001b[36m200\u001b[0m - \u001b[1mThere are 6 sample(s) in the original dataset.\u001b[0m\n",
      "Filter (num_proc=4): 100%|##########| 6/6 [00:00<00:00, 57.80 examples/s]\n",
      "\u001b[32m2024-08-07 17:04:18\u001b[0m | \u001b[1mINFO    \u001b[0m | \u001b[36mdata_juicer.format.formatter\u001b[0m:\u001b[36m214\u001b[0m - \u001b[1m6 samples left after filtering empty text.\u001b[0m\n",
      "\u001b[32m2024-08-07 17:04:18\u001b[0m | \u001b[1mINFO    \u001b[0m | \u001b[36mdata_juicer.format.mixture_formatter\u001b[0m:\u001b[36m137\u001b[0m - \u001b[1msampled 6 from 6\u001b[0m\n",
      "\u001b[32m2024-08-07 17:04:18\u001b[0m | \u001b[1mINFO    \u001b[0m | \u001b[36mdata_juicer.format.mixture_formatter\u001b[0m:\u001b[36m143\u001b[0m - \u001b[1mThere are 6 in final dataset\u001b[0m\n",
      "\u001b[32m2024-08-07 17:04:18\u001b[0m | \u001b[1mINFO    \u001b[0m | \u001b[36mdata_juicer.core.executor\u001b[0m:\u001b[36m157\u001b[0m - \u001b[1mPreparing process operators...\u001b[0m\n",
      "\u001b[32m2024-08-07 17:04:18\u001b[0m | \u001b[1mINFO    \u001b[0m | \u001b[36mdata_juicer.utils.model_utils\u001b[0m:\u001b[36m103\u001b[0m - \u001b[1mLoading fasttext language identification model...\u001b[0m\n",
      "Warning : `load_model` does not return WordVectorModel or SupervisedModel any more, but a `FastText` object which is very similar.\n",
      "\u001b[32m2024-08-07 17:04:18\u001b[0m | \u001b[1mINFO    \u001b[0m | \u001b[36mdata_juicer.utils.model_utils\u001b[0m:\u001b[36m74\u001b[0m - \u001b[1mModel [/root/.cache/data_juicer/models/lid.176.bin] not found . Downloading...\u001b[0m\n",
      "Warning : `load_model` does not return WordVectorModel or SupervisedModel any more, but a `FastText` object which is very similar.\n",
      "\u001b[32m2024-08-07 17:04:28\u001b[0m | \u001b[1mINFO    \u001b[0m | \u001b[36mdata_juicer.core.executor\u001b[0m:\u001b[36m164\u001b[0m - \u001b[1mProcessing data...\u001b[0m\n",
      "Adding new column for stats (num_proc=4): 100%|##########| 6/6 [00:00<00:00, 66.88 examples/s]\n",
      "language_id_score_filter_compute_stats (num_proc=4):   0%|          | 0/6 [00:00<?, ? examples/s]\u001b[32m2024-08-07 17:04:28\u001b[0m | \u001b[1mINFO    \u001b[0m | \u001b[36mdata_juicer.utils.model_utils\u001b[0m:\u001b[36m103\u001b[0m - \u001b[1mLoading fasttext language identification model...\u001b[0m\n",
      "Warning : `load_model` does not return WordVectorModel or SupervisedModel any more, but a `FastText` object which is very similar.\n",
      "\u001b[32m2024-08-07 17:04:28\u001b[0m | \u001b[1mINFO    \u001b[0m | \u001b[36mdata_juicer.utils.model_utils\u001b[0m:\u001b[36m103\u001b[0m - \u001b[1mLoading fasttext language identification model...\u001b[0m\n",
      "Warning : `load_model` does not return WordVectorModel or SupervisedModel any more, but a `FastText` object which is very similar.\n",
      "\u001b[32m2024-08-07 17:04:28\u001b[0m | \u001b[1mINFO    \u001b[0m | \u001b[36mdata_juicer.utils.model_utils\u001b[0m:\u001b[36m103\u001b[0m - \u001b[1mLoading fasttext language identification model...\u001b[0m\n",
      "Warning : `load_model` does not return WordVectorModel or SupervisedModel any more, but a `FastText` object which is very similar.\n",
      "\u001b[32m2024-08-07 17:04:28\u001b[0m | \u001b[1mINFO    \u001b[0m | \u001b[36mdata_juicer.utils.model_utils\u001b[0m:\u001b[36m103\u001b[0m - \u001b[1mLoading fasttext language identification model...\u001b[0m\n",
      "Warning : `load_model` does not return WordVectorModel or SupervisedModel any more, but a `FastText` object which is very similar.\n",
      "language_id_score_filter_compute_stats (num_proc=4): 100%|##########| 6/6 [00:00<00:00, 35.64 examples/s]\n",
      "language_id_score_filter_process (num_proc=4): 100%|##########| 6/6 [00:00<00:00, 68.64 examples/s]\n",
      "\u001b[32m2024-08-07 17:04:28\u001b[0m | \u001b[1mINFO    \u001b[0m | \u001b[36mdata_juicer.core.data\u001b[0m:\u001b[36m193\u001b[0m - \u001b[1mOP [language_id_score_filter] Done in 0.478s. Left 2 samples.\u001b[0m\n",
      "\u001b[32m2024-08-07 17:04:28\u001b[0m | \u001b[1mINFO    \u001b[0m | \u001b[36mdata_juicer.core.executor\u001b[0m:\u001b[36m171\u001b[0m - \u001b[1mAll OPs are done in 0.478s.\u001b[0m\n",
      "\u001b[32m2024-08-07 17:04:28\u001b[0m | \u001b[1mINFO    \u001b[0m | \u001b[36mdata_juicer.core.executor\u001b[0m:\u001b[36m174\u001b[0m - \u001b[1mExporting dataset to disk...\u001b[0m\n",
      "\u001b[32m2024-08-07 17:04:28\u001b[0m | \u001b[1mINFO    \u001b[0m | \u001b[36mdata_juicer.core.exporter\u001b[0m:\u001b[36m111\u001b[0m - \u001b[1mExporting computed stats into a single file...\u001b[0m\n",
      "Creating json from Arrow format: 100%|##########| 1/1 [00:00<00:00, 206.82ba/s]\n",
      "\u001b[32m2024-08-07 17:04:28\u001b[0m | \u001b[1mINFO    \u001b[0m | \u001b[36mdata_juicer.core.exporter\u001b[0m:\u001b[36m140\u001b[0m - \u001b[1mExport dataset into a single file...\u001b[0m\n",
      "Creating json from Arrow format: 100%|##########| 1/1 [00:00<00:00, 1115.80ba/s]\n"
     ]
    }
   ],
   "source": [
    "# Then you can run this command in your CLI\n",
    "!dj-process --config configs/demo/process.yaml"
   ]
  },
  {
   "cell_type": "markdown",
   "id": "41f383e3",
   "metadata": {},
   "source": [
    "As we can see in the output log, Data-Juicer:\n",
    "1. backs up the config file into the work directory, then print the config table in detail.\n",
    "2. starts to prepare OPs in the process list and exporter for result dataset storage, preprocess the input dataset to a unified format, and load the models used in these OPs.\n",
    "3. starts to process the dataset in the order of process list and report the processing information of each OP (e.g. time cost, number of left samples).\n",
    "4. exports the result dataset to the disk.\n",
    "\n",
    "We will check the whole procedure from the code perspective to better understand what Data-Juicer does during data processing."
   ]
  },
  {
   "cell_type": "markdown",
   "id": "d049031c",
   "metadata": {},
   "source": [
    "The `process_data.py` tool and `dj-process` tool will call the `Executor.run()` method to process the data. The `Executor` class is a entry class which integrates the whole processing procedure. For now, Data-Juicer supports 2 types of `Executor`: one is for standalone computer and the other is for distributed processing. The latter one will be introduced in the later notebooks. Here we focus on the default standalone `Executor`.\n",
    "\n",
    "``` python\n",
    "# tools/process_data.py\n",
    "from loguru import logger\n",
    "from data_juicer.config import init_configs\n",
    "from data_juicer.core import Executor\n",
    "\n",
    "@logger.catch(reraise=True)\n",
    "def main():\n",
    "    cfg = init_configs()\n",
    "    if cfg.executor_type == 'default':\n",
    "        executor = Executor(cfg)\n",
    "    elif cfg.executor_type == 'ray':\n",
    "        from data_juicer.core.ray_executor import RayExecutor\n",
    "        executor = RayExecutor(cfg)\n",
    "    executor.run()\n",
    "\n",
    "\n",
    "if __name__ == '__main__':\n",
    "    main()\n",
    "```"
   ]
  },
  {
   "cell_type": "markdown",
   "id": "431e3be2",
   "metadata": {},
   "source": [
    "We can also run this part of code in a Python file with specified config file."
   ]
  },
  {
   "cell_type": "code",
   "execution_count": 2,
   "id": "fba9af8a",
   "metadata": {},
   "outputs": [
    {
     "name": "stderr",
     "output_type": "stream",
     "text": [
      "/usr/local/python310/lib/python3.10/site-packages/tqdm/auto.py:21: TqdmWarning: IProgress not found. Please update jupyter and ipywidgets. See https://ipywidgets.readthedocs.io/en/stable/user_install.html\n",
      "  from .autonotebook import tqdm as notebook_tqdm\n",
      "\u001b[32m2024-08-07 17:27:49\u001b[0m | \u001b[1mINFO    \u001b[0m | \u001b[36mdata_juicer.config.config\u001b[0m:\u001b[36m618\u001b[0m - \u001b[1mBack up the input config file [/root/projects/data-juicer/configs/demo/process.yaml] into the work_dir [/root/projects/data-juicer/outputs/demo-process]\u001b[0m\n",
      "\u001b[32m2024-08-07 17:27:49\u001b[0m | \u001b[1mINFO    \u001b[0m | \u001b[36mdata_juicer.config.config\u001b[0m:\u001b[36m640\u001b[0m - \u001b[1mConfiguration table: \u001b[0m\n",
      "╒═════════════════════════╤════════════════════════════════════════════════════════════════════════╕\n",
      "│ key                     │ values                                                                 │\n",
      "╞═════════════════════════╪════════════════════════════════════════════════════════════════════════╡\n",
      "│ config                  │ [Path_fr(configs/demo/process.yaml, cwd=/root/projects/data-juicer)]   │\n",
      "├─────────────────────────┼────────────────────────────────────────────────────────────────────────┤\n",
      "│ hpo_config              │ None                                                                   │\n",
      "├─────────────────────────┼────────────────────────────────────────────────────────────────────────┤\n",
      "│ data_probe_algo         │ 'uniform'                                                              │\n",
      "├─────────────────────────┼────────────────────────────────────────────────────────────────────────┤\n",
      "│ data_probe_ratio        │ 1.0                                                                    │\n",
      "├─────────────────────────┼────────────────────────────────────────────────────────────────────────┤\n",
      "│ project_name            │ 'demo-process'                                                         │\n",
      "├─────────────────────────┼────────────────────────────────────────────────────────────────────────┤\n",
      "│ executor_type           │ 'default'                                                              │\n",
      "├─────────────────────────┼────────────────────────────────────────────────────────────────────────┤\n",
      "│ dataset_path            │ '/root/projects/data-juicer/demos/data/demo-dataset.jsonl'             │\n",
      "├─────────────────────────┼────────────────────────────────────────────────────────────────────────┤\n",
      "│ export_path             │ '/root/projects/data-juicer/outputs/demo-process/demo-processed.jsonl' │\n",
      "├─────────────────────────┼────────────────────────────────────────────────────────────────────────┤\n",
      "│ export_shard_size       │ 0                                                                      │\n",
      "├─────────────────────────┼────────────────────────────────────────────────────────────────────────┤\n",
      "│ export_in_parallel      │ False                                                                  │\n",
      "├─────────────────────────┼────────────────────────────────────────────────────────────────────────┤\n",
      "│ keep_stats_in_res_ds    │ False                                                                  │\n",
      "├─────────────────────────┼────────────────────────────────────────────────────────────────────────┤\n",
      "│ keep_hashes_in_res_ds   │ False                                                                  │\n",
      "├─────────────────────────┼────────────────────────────────────────────────────────────────────────┤\n",
      "│ np                      │ 4                                                                      │\n",
      "├─────────────────────────┼────────────────────────────────────────────────────────────────────────┤\n",
      "│ text_keys               │ 'text'                                                                 │\n",
      "├─────────────────────────┼────────────────────────────────────────────────────────────────────────┤\n",
      "│ image_key               │ 'images'                                                               │\n",
      "├─────────────────────────┼────────────────────────────────────────────────────────────────────────┤\n",
      "│ image_special_token     │ '<__dj__image>'                                                        │\n",
      "├─────────────────────────┼────────────────────────────────────────────────────────────────────────┤\n",
      "│ audio_key               │ 'audios'                                                               │\n",
      "├─────────────────────────┼────────────────────────────────────────────────────────────────────────┤\n",
      "│ audio_special_token     │ '<__dj__audio>'                                                        │\n",
      "├─────────────────────────┼────────────────────────────────────────────────────────────────────────┤\n",
      "│ video_key               │ 'videos'                                                               │\n",
      "├─────────────────────────┼────────────────────────────────────────────────────────────────────────┤\n",
      "│ video_special_token     │ '<__dj__video>'                                                        │\n",
      "├─────────────────────────┼────────────────────────────────────────────────────────────────────────┤\n",
      "│ eoc_special_token       │ '<|__dj__eoc|>'                                                        │\n",
      "├─────────────────────────┼────────────────────────────────────────────────────────────────────────┤\n",
      "│ suffixes                │ []                                                                     │\n",
      "├─────────────────────────┼────────────────────────────────────────────────────────────────────────┤\n",
      "│ use_cache               │ True                                                                   │\n",
      "├─────────────────────────┼────────────────────────────────────────────────────────────────────────┤\n",
      "│ ds_cache_dir            │ '/root/.cache/huggingface/datasets'                                    │\n",
      "├─────────────────────────┼────────────────────────────────────────────────────────────────────────┤\n",
      "│ cache_compress          │ None                                                                   │\n",
      "├─────────────────────────┼────────────────────────────────────────────────────────────────────────┤\n",
      "│ use_checkpoint          │ False                                                                  │\n",
      "├─────────────────────────┼────────────────────────────────────────────────────────────────────────┤\n",
      "│ temp_dir                │ None                                                                   │\n",
      "├─────────────────────────┼────────────────────────────────────────────────────────────────────────┤\n",
      "│ open_tracer             │ False                                                                  │\n",
      "├─────────────────────────┼────────────────────────────────────────────────────────────────────────┤\n",
      "│ op_list_to_trace        │ []                                                                     │\n",
      "├─────────────────────────┼────────────────────────────────────────────────────────────────────────┤\n",
      "│ trace_num               │ 10                                                                     │\n",
      "├─────────────────────────┼────────────────────────────────────────────────────────────────────────┤\n",
      "│ op_fusion               │ False                                                                  │\n",
      "├─────────────────────────┼────────────────────────────────────────────────────────────────────────┤\n",
      "│ process                 │ [{'language_id_score_filter': {'accelerator': None,                    │\n",
      "│                         │                                'audio_key': 'audios',                  │\n",
      "│                         │                                'cpu_required': 1,                      │\n",
      "│                         │                                'image_key': 'images',                  │\n",
      "│                         │                                'lang': 'zh',                           │\n",
      "│                         │                                'mem_required': 0,                      │\n",
      "│                         │                                'min_score': 0.8,                       │\n",
      "│                         │                                'num_proc': 4,                          │\n",
      "│                         │                                'stats_export_path': None,              │\n",
      "│                         │                                'text_key': 'text',                     │\n",
      "│                         │                                'video_key': 'videos'}}]                │\n",
      "├─────────────────────────┼────────────────────────────────────────────────────────────────────────┤\n",
      "│ percentiles             │ []                                                                     │\n",
      "├─────────────────────────┼────────────────────────────────────────────────────────────────────────┤\n",
      "│ export_original_dataset │ False                                                                  │\n",
      "├─────────────────────────┼────────────────────────────────────────────────────────────────────────┤\n",
      "│ save_stats_in_one_file  │ False                                                                  │\n",
      "├─────────────────────────┼────────────────────────────────────────────────────────────────────────┤\n",
      "│ ray_address             │ 'auto'                                                                 │\n",
      "├─────────────────────────┼────────────────────────────────────────────────────────────────────────┤\n",
      "│ debug                   │ False                                                                  │\n",
      "├─────────────────────────┼────────────────────────────────────────────────────────────────────────┤\n",
      "│ work_dir                │ '/root/projects/data-juicer/outputs/demo-process'                      │\n",
      "├─────────────────────────┼────────────────────────────────────────────────────────────────────────┤\n",
      "│ timestamp               │ '20240807172748'                                                       │\n",
      "├─────────────────────────┼────────────────────────────────────────────────────────────────────────┤\n",
      "│ dataset_dir             │ '/root/projects/data-juicer/demos/data'                                │\n",
      "├─────────────────────────┼────────────────────────────────────────────────────────────────────────┤\n",
      "│ add_suffix              │ False                                                                  │\n",
      "╘═════════════════════════╧════════════════════════════════════════════════════════════════════════╛\n",
      "\u001b[32m2024-08-07 17:27:49\u001b[0m | \u001b[1mINFO    \u001b[0m | \u001b[36mdata_juicer.core.executor\u001b[0m:\u001b[36m47\u001b[0m - \u001b[1mUsing cache compression method: [None]\u001b[0m\n",
      "\u001b[32m2024-08-07 17:27:49\u001b[0m | \u001b[1mINFO    \u001b[0m | \u001b[36mdata_juicer.core.executor\u001b[0m:\u001b[36m52\u001b[0m - \u001b[1mSetting up data formatter...\u001b[0m\n",
      "\u001b[32m2024-08-07 17:27:49\u001b[0m | \u001b[1mINFO    \u001b[0m | \u001b[36mdata_juicer.core.executor\u001b[0m:\u001b[36m74\u001b[0m - \u001b[1mPreparing exporter...\u001b[0m\n",
      "\u001b[32m2024-08-07 17:27:49\u001b[0m | \u001b[1mINFO    \u001b[0m | \u001b[36mdata_juicer.core.executor\u001b[0m:\u001b[36m151\u001b[0m - \u001b[1mLoading dataset from data formatter...\u001b[0m\n",
      "\u001b[32m2024-08-07 17:27:50\u001b[0m | \u001b[1mINFO    \u001b[0m | \u001b[36mdata_juicer.format.formatter\u001b[0m:\u001b[36m185\u001b[0m - \u001b[1mUnifying the input dataset formats...\u001b[0m\n",
      "\u001b[32m2024-08-07 17:27:50\u001b[0m | \u001b[1mINFO    \u001b[0m | \u001b[36mdata_juicer.format.formatter\u001b[0m:\u001b[36m200\u001b[0m - \u001b[1mThere are 6 sample(s) in the original dataset.\u001b[0m\n",
      "\u001b[32m2024-08-07 17:27:50\u001b[0m | \u001b[1mINFO    \u001b[0m | \u001b[36mdata_juicer.format.formatter\u001b[0m:\u001b[36m214\u001b[0m - \u001b[1m6 samples left after filtering empty text.\u001b[0m\n",
      "\u001b[32m2024-08-07 17:27:50\u001b[0m | \u001b[1mINFO    \u001b[0m | \u001b[36mdata_juicer.format.mixture_formatter\u001b[0m:\u001b[36m137\u001b[0m - \u001b[1msampled 6 from 6\u001b[0m\n",
      "\u001b[32m2024-08-07 17:27:50\u001b[0m | \u001b[1mINFO    \u001b[0m | \u001b[36mdata_juicer.format.mixture_formatter\u001b[0m:\u001b[36m143\u001b[0m - \u001b[1mThere are 6 in final dataset\u001b[0m\n",
      "\u001b[32m2024-08-07 17:27:50\u001b[0m | \u001b[1mINFO    \u001b[0m | \u001b[36mdata_juicer.core.executor\u001b[0m:\u001b[36m157\u001b[0m - \u001b[1mPreparing process operators...\u001b[0m\n",
      "\u001b[32m2024-08-07 17:27:50\u001b[0m | \u001b[1mINFO    \u001b[0m | \u001b[36mdata_juicer.utils.model_utils\u001b[0m:\u001b[36m103\u001b[0m - \u001b[1mLoading fasttext language identification model...\u001b[0m\n",
      "Warning : `load_model` does not return WordVectorModel or SupervisedModel any more, but a `FastText` object which is very similar.\n",
      "\u001b[32m2024-08-07 17:27:50\u001b[0m | \u001b[1mINFO    \u001b[0m | \u001b[36mdata_juicer.core.executor\u001b[0m:\u001b[36m164\u001b[0m - \u001b[1mProcessing data...\u001b[0m\n",
      "\u001b[32m2024-08-07 17:27:50\u001b[0m | \u001b[1mINFO    \u001b[0m | \u001b[36mdata_juicer.core.data\u001b[0m:\u001b[36m193\u001b[0m - \u001b[1mOP [language_id_score_filter] Done in 0.031s. Left 2 samples.\u001b[0m\n",
      "\u001b[32m2024-08-07 17:27:50\u001b[0m | \u001b[1mINFO    \u001b[0m | \u001b[36mdata_juicer.core.executor\u001b[0m:\u001b[36m171\u001b[0m - \u001b[1mAll OPs are done in 0.031s.\u001b[0m\n",
      "\u001b[32m2024-08-07 17:27:50\u001b[0m | \u001b[1mINFO    \u001b[0m | \u001b[36mdata_juicer.core.executor\u001b[0m:\u001b[36m174\u001b[0m - \u001b[1mExporting dataset to disk...\u001b[0m\n",
      "\u001b[32m2024-08-07 17:27:50\u001b[0m | \u001b[1mINFO    \u001b[0m | \u001b[36mdata_juicer.core.exporter\u001b[0m:\u001b[36m111\u001b[0m - \u001b[1mExporting computed stats into a single file...\u001b[0m\n",
      "Creating json from Arrow format: 100%|##########| 1/1 [00:00<00:00, 219.86ba/s]\n",
      "\u001b[32m2024-08-07 17:27:50\u001b[0m | \u001b[1mINFO    \u001b[0m | \u001b[36mdata_juicer.core.exporter\u001b[0m:\u001b[36m140\u001b[0m - \u001b[1mExport dataset into a single file...\u001b[0m\n",
      "Creating json from Arrow format: 100%|##########| 1/1 [00:00<00:00, 860.19ba/s]\n"
     ]
    }
   ],
   "source": [
    "# we init the corresponding config\n",
    "from loguru import logger\n",
    "from data_juicer.config import init_configs\n",
    "cfg = init_configs(['--config', 'configs/demo/process.yaml'])\n",
    "\n",
    "from data_juicer.core import Executor\n",
    "executor = Executor(cfg)\n",
    "dataset = executor.run()"
   ]
  },
  {
   "cell_type": "markdown",
   "id": "b012c206",
   "metadata": {},
   "source": [
    "As we can see, the log contains less contents than the run above and this OP is much faster than before. That's because we already process with this recipe before and generate caches for the processing procedure, and this second run only need to load the cache instead of processing again when the recipe is the same."
   ]
  },
  {
   "cell_type": "markdown",
   "id": "e89ce4d1",
   "metadata": {},
   "source": [
    "## What `Executor.run()` does during processing\n",
    "\n",
    "Now, we explain the key `Executor.run()` method in [executor.py](https://github.com/modelscope/data-juicer/blob/main/data_juicer/core/executor.py) step by step."
   ]
  },
  {
   "cell_type": "markdown",
   "id": "5895325d",
   "metadata": {},
   "source": [
    "First the method loads and format the input dataset.\n",
    "\n",
    "We can load dataset from checkpoints in previous runs, or load dataset from the dataset file using data formatter.\n",
    "\n",
    "``` python\n",
    "class Executor:\n",
    "    ...\n",
    "    def run(self, load_data_np=None):\n",
    "        ...\n",
    "        # 1. format data\n",
    "        if self.cfg.use_checkpoint and self.ckpt_manager.ckpt_available:\n",
    "            logger.info('Loading dataset from checkpoint...')\n",
    "            dataset = self.ckpt_manager.load_ckpt()\n",
    "        else:\n",
    "            logger.info('Loading dataset from data formatter...')\n",
    "            if load_data_np is None:\n",
    "                load_data_np = self.cfg.np\n",
    "            dataset = self.formatter.load_dataset(load_data_np, self.cfg)\n",
    "        ...\n",
    "    ...\n",
    "```\n",
    "\n",
    "You can run the code below to check the loaded dataset here interactively."
   ]
  },
  {
   "cell_type": "code",
   "execution_count": 3,
   "id": "23c8a53f",
   "metadata": {},
   "outputs": [
    {
     "name": "stderr",
     "output_type": "stream",
     "text": [
      "\u001b[32m2024-08-07 17:35:33\u001b[0m | \u001b[1mINFO    \u001b[0m | \u001b[36mdata_juicer.format.formatter\u001b[0m:\u001b[36m185\u001b[0m - \u001b[1mUnifying the input dataset formats...\u001b[0m\n",
      "\u001b[32m2024-08-07 17:35:33\u001b[0m | \u001b[1mINFO    \u001b[0m | \u001b[36mdata_juicer.format.formatter\u001b[0m:\u001b[36m200\u001b[0m - \u001b[1mThere are 6 sample(s) in the original dataset.\u001b[0m\n",
      "\u001b[32m2024-08-07 17:35:33\u001b[0m | \u001b[1mINFO    \u001b[0m | \u001b[36mdata_juicer.format.formatter\u001b[0m:\u001b[36m214\u001b[0m - \u001b[1m6 samples left after filtering empty text.\u001b[0m\n",
      "\u001b[32m2024-08-07 17:35:33\u001b[0m | \u001b[1mINFO    \u001b[0m | \u001b[36mdata_juicer.format.mixture_formatter\u001b[0m:\u001b[36m137\u001b[0m - \u001b[1msampled 6 from 6\u001b[0m\n",
      "\u001b[32m2024-08-07 17:35:33\u001b[0m | \u001b[1mINFO    \u001b[0m | \u001b[36mdata_juicer.format.mixture_formatter\u001b[0m:\u001b[36m143\u001b[0m - \u001b[1mThere are 6 in final dataset\u001b[0m\n",
      "\u001b[32m2024-08-07 17:43:11\u001b[0m | \u001b[1mINFO    \u001b[0m | \u001b[36mdata_juicer.core.data\u001b[0m:\u001b[36m193\u001b[0m - \u001b[1mOP [language_id_score_filter] Done in 0.031s. Left 2 samples.\u001b[0m\n",
      "\u001b[32m2024-08-07 17:43:29\u001b[0m | \u001b[1mINFO    \u001b[0m | \u001b[36mdata_juicer.core.data\u001b[0m:\u001b[36m193\u001b[0m - \u001b[1mOP [language_id_score_filter] Done in 0.029s. Left 2 samples.\u001b[0m\n",
      "/usr/local/python310/lib/python3.10/site-packages/IPython/core/magics/osm.py:417: UserWarning: This is now an optional IPython functionality, setting dhist requires you to install the `pickleshare` library.\n",
      "  self.shell.db['dhist'] = compress_dhist(dhist)[-100:]\n",
      "/root/projects/data-juicer\n"
     ]
    },
    {
     "data": {
      "text/plain": [
       "Dataset({\n",
       "    features: ['text', 'meta'],\n",
       "    num_rows: 6\n",
       "})"
      ]
     },
     "execution_count": 3,
     "metadata": {},
     "output_type": "execute_result"
    }
   ],
   "source": [
    "loaded_dataset = executor.formatter.load_dataset(cfg.np, cfg)\n",
    "loaded_dataset"
   ]
  },
  {
   "cell_type": "markdown",
   "id": "d2ac6c85",
   "metadata": {},
   "source": [
    "Then the method load the OPs according to the process list from the given config file.\n",
    "\n",
    "``` python\n",
    "class Executor:\n",
    "    ...\n",
    "    def run(self, load_data_np = None)\n",
    "        ...\n",
    "        # 2. extract processes\n",
    "        logger.info('Preparing process operators...')\n",
    "        self.process_list, self.ops = load_ops(self.cfg.process,\n",
    "                                               self.cfg.op_fusion)\n",
    "        ...\n",
    "    ...\n",
    "```\n",
    "\n",
    "You can run the code below to check the process_list and OPs loaded from the input config file."
   ]
  },
  {
   "cell_type": "code",
   "execution_count": 4,
   "id": "3efb2667",
   "metadata": {},
   "outputs": [
    {
     "data": {
      "text/plain": [
       "[{'language_id_score_filter': {'lang': 'zh',\n",
       "   'min_score': 0.8,\n",
       "   'text_key': 'text',\n",
       "   'image_key': 'images',\n",
       "   'audio_key': 'audios',\n",
       "   'video_key': 'videos',\n",
       "   'accelerator': None,\n",
       "   'num_proc': 4,\n",
       "   'cpu_required': 1,\n",
       "   'mem_required': 0,\n",
       "   'stats_export_path': None}}]"
      ]
     },
     "execution_count": 4,
     "metadata": {},
     "output_type": "execute_result"
    }
   ],
   "source": [
    "process_list = executor.process_list\n",
    "process_list"
   ]
  },
  {
   "cell_type": "code",
   "execution_count": 5,
   "id": "d174214c",
   "metadata": {},
   "outputs": [
    {
     "data": {
      "text/plain": [
       "[<data_juicer.ops.filter.language_id_score_filter.LanguageIDScoreFilter at 0x7f079f4e1030>]"
      ]
     },
     "execution_count": 5,
     "metadata": {},
     "output_type": "execute_result"
    }
   ],
   "source": [
    "ops = executor.ops\n",
    "ops"
   ]
  },
  {
   "cell_type": "markdown",
   "id": "e6a93837",
   "metadata": {},
   "source": [
    "According to the loaded self.process_list and self.ops, the method runs these OPs to the dataset.\n",
    "\n",
    "``` python\n",
    "class Executor:\n",
    "    ...\n",
    "    def run():\n",
    "        ...\n",
    "        # 3. data process\n",
    "        # - If tracer is open, trace each op after it's processed\n",
    "        # - If checkpoint is open, clean the cache files after each process\n",
    "        logger.info('Processing data...')\n",
    "        tstart = time()\n",
    "        dataset = dataset.process(self.ops,\n",
    "                                  exporter=self.exporter,\n",
    "                                  checkpointer=self.ckpt_manager,\n",
    "                                  tracer=self.tracer)\n",
    "        tend = time()\n",
    "        logger.info(f'All OPs are done in {tend - tstart:.3f}s.')\n",
    "    ...\n",
    "```\n",
    "\n",
    "Here we use the `dataset.process` method on the whole OP list directly. You can run the code below to check this step."
   ]
  },
  {
   "cell_type": "code",
   "execution_count": 8,
   "id": "336f5ff0",
   "metadata": {},
   "outputs": [],
   "source": [
    "res_dataset = loaded_dataset.process(executor.ops)"
   ]
  },
  {
   "cell_type": "markdown",
   "id": "5d018e04",
   "metadata": {},
   "source": [
    "After all the ops are processed, the method dumps the result dataset to the given export path.\n",
    "\n",
    "``` python\n",
    "class Executor:\n",
    "    ...\n",
    "    def run():\n",
    "        ...\n",
    "        # 4. data export\n",
    "        logger.info('Exporting dataset to disk...')\n",
    "        self.exporter.export(dataset)\n",
    "        ...\n",
    "    ...\n",
    "```"
   ]
  },
  {
   "cell_type": "markdown",
   "id": "d20989dc",
   "metadata": {},
   "source": [
    "You can check the process dataset in the export path in [configs/demo/process.yaml](https://github.com/modelscope/data-juicer/blob/main/configs/demo/process.yaml)\n",
    "\n",
    "``` yaml\n",
    "export_path: './outputs/demo-process/demo-processed.jsonl'\n",
    "```"
   ]
  },
  {
   "cell_type": "code",
   "execution_count": 9,
   "id": "26364074",
   "metadata": {},
   "outputs": [
    {
     "data": {
      "text/plain": [
       "Dataset({\n",
       "    features: ['text', 'meta', '__dj__stats__'],\n",
       "    num_rows: 2\n",
       "})"
      ]
     },
     "execution_count": 9,
     "metadata": {},
     "output_type": "execute_result"
    }
   ],
   "source": [
    "# the exported dataset after run\n",
    "res_dataset"
   ]
  },
  {
   "cell_type": "markdown",
   "id": "5cd9b399",
   "metadata": {},
   "source": [
    "# Conclusion\n",
    "\n",
    "In this notebook, we learn how to process our dataset using a built-in data recipe in Data-Juicer, and understand the details during processing in `Executor.run()` method step by step."
   ]
  }
 ],
 "metadata": {
  "kernelspec": {
   "display_name": "Python 3 (ipykernel)",
   "language": "python",
   "name": "python3"
  },
  "language_info": {
   "codemirror_mode": {
    "name": "ipython",
    "version": 3
   },
   "file_extension": ".py",
   "mimetype": "text/x-python",
   "name": "python",
   "nbconvert_exporter": "python",
   "pygments_lexer": "ipython3",
   "version": "3.9.12"
  }
 },
 "nbformat": 4,
 "nbformat_minor": 5
}
